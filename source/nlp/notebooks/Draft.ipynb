{
 "cells": [
  {
   "cell_type": "code",
   "execution_count": 3,
   "id": "ff8d675f-637b-4182-849a-acbcc6b40201",
   "metadata": {
    "tags": []
   },
   "outputs": [],
   "source": [
    "import pandas as pd\n",
    "import numpy as np\n",
    "from itertools import product"
   ]
  },
  {
   "cell_type": "code",
   "execution_count": 2,
   "id": "06dd472e-3b8d-418a-9f9c-5131fba09013",
   "metadata": {
    "tags": []
   },
   "outputs": [],
   "source": [
    "a = [0.1, 0.2, 0.4, 0.6, 0.8, 1.0]\n",
    "b = [0.001, 0.01, 0.05, 0.1, 1.0]"
   ]
  },
  {
   "cell_type": "code",
   "execution_count": 6,
   "id": "d0f3816e-c7f3-47d2-aee7-0a1f2d202872",
   "metadata": {
    "tags": []
   },
   "outputs": [],
   "source": [
    "res = {\n",
    "    'perc_time': [],\n",
    "    'alpha': []\n",
    "}\n",
    "for a_, b_ in product(a, b):\n",
    "    res['perc_time'].append(a_)\n",
    "    res['alpha'].append(b_)\n",
    "    \n",
    "df = pd.DataFrame(res)"
   ]
  },
  {
   "cell_type": "code",
   "execution_count": 9,
   "id": "e5d5f35f-e8b0-4767-8d63-b4c8c8805920",
   "metadata": {
    "tags": []
   },
   "outputs": [],
   "source": [
    "df['score'] = df.perc_time * 10 + df.alpha"
   ]
  },
  {
   "cell_type": "code",
   "execution_count": 11,
   "id": "a2e7f652-8f26-468b-9fcd-a75acb96c75a",
   "metadata": {
    "tags": []
   },
   "outputs": [
    {
     "data": {
      "text/html": [
       "<div>\n",
       "<style scoped>\n",
       "    .dataframe tbody tr th:only-of-type {\n",
       "        vertical-align: middle;\n",
       "    }\n",
       "\n",
       "    .dataframe tbody tr th {\n",
       "        vertical-align: top;\n",
       "    }\n",
       "\n",
       "    .dataframe thead th {\n",
       "        text-align: right;\n",
       "    }\n",
       "</style>\n",
       "<table border=\"1\" class=\"dataframe\">\n",
       "  <thead>\n",
       "    <tr style=\"text-align: right;\">\n",
       "      <th></th>\n",
       "      <th>perc_time</th>\n",
       "      <th>alpha</th>\n",
       "      <th>score</th>\n",
       "    </tr>\n",
       "  </thead>\n",
       "  <tbody>\n",
       "    <tr>\n",
       "      <th>0</th>\n",
       "      <td>0.1</td>\n",
       "      <td>0.001</td>\n",
       "      <td>1.001</td>\n",
       "    </tr>\n",
       "    <tr>\n",
       "      <th>1</th>\n",
       "      <td>0.1</td>\n",
       "      <td>0.010</td>\n",
       "      <td>1.010</td>\n",
       "    </tr>\n",
       "  </tbody>\n",
       "</table>\n",
       "</div>"
      ],
      "text/plain": [
       "   perc_time  alpha  score\n",
       "0        0.1  0.001  1.001\n",
       "1        0.1  0.010  1.010"
      ]
     },
     "execution_count": 11,
     "metadata": {},
     "output_type": "execute_result"
    }
   ],
   "source": [
    "df.head(2)"
   ]
  },
  {
   "cell_type": "code",
   "execution_count": 16,
   "id": "62948747-e695-4a4b-993c-379e265a6fbc",
   "metadata": {
    "tags": []
   },
   "outputs": [
    {
     "name": "stdout",
     "output_type": "stream",
     "text": [
      "\\begin{tabular}{lrrrrrr}\n",
      "\\toprule\n",
      "perc\\_time &    0.1 &    0.2 &    0.4 &    0.6 &    0.8 &     1.0 \\\\\n",
      "alpha &        &        &        &        &        &         \\\\\n",
      "\\midrule\n",
      "0.001 &  1.001 &  2.001 &  4.001 &  6.001 &  8.001 &  10.001 \\\\\n",
      "0.010 &  1.010 &  2.010 &  4.010 &  6.010 &  8.010 &  10.010 \\\\\n",
      "0.050 &  1.050 &  2.050 &  4.050 &  6.050 &  8.050 &  10.050 \\\\\n",
      "0.100 &  1.100 &  2.100 &  4.100 &  6.100 &  8.100 &  10.100 \\\\\n",
      "1.000 &  2.000 &  3.000 &  5.000 &  7.000 &  9.000 &  11.000 \\\\\n",
      "\\bottomrule\n",
      "\\end{tabular}\n",
      "\n"
     ]
    }
   ],
   "source": [
    "print(df.pivot(index='alpha', columns='perc_time', values='score').to_latex())"
   ]
  },
  {
   "cell_type": "code",
   "execution_count": null,
   "id": "6f37dd9b-e60e-4451-8b4f-c5989e7e2be2",
   "metadata": {},
   "outputs": [],
   "source": [
    "x = \"\"\"\n",
    "\\begin{table}[]\n",
    "\\begin{tabular}{lllllll}\n",
    "\\textbackslash{}alpha & 2 & 3    &  &  &  &  \\\\ \\hline\n",
    "1                     &   &      &  &  &  &  \\\\ \\cline{1-6}\n",
    "10                    &   & 2137 &  &  &  &  \\\\\n",
    "20                    &   &      &  &  &  &  \\\\\n",
    "40                    &   &      &  &  &  &  \\\\\n",
    "                      &   &      &  &  &  & \n",
    "\\end{tabular}\n",
    "\\end{table}\n",
    "\"\"\""
   ]
  },
  {
   "cell_type": "code",
   "execution_count": 12,
   "id": "3001ee7b-ddf7-4f05-acf2-970a77bb0d91",
   "metadata": {
    "tags": []
   },
   "outputs": [],
   "source": [
    "top = r'\\begin{table}[]' + '\\n' + r'\\centering'\n",
    "down = r'\\end{tabular}' + '\\n' + r'\\end{table}'"
   ]
  },
  {
   "cell_type": "code",
   "execution_count": null,
   "id": "8aa45f49-beb1-48a6-aacd-b39b3f5ca562",
   "metadata": {},
   "outputs": [],
   "source": [
    "first_line = rf'\\begin{tabular}{l|' + pd.unique(df.perc_time) *  "
   ]
  }
 ],
 "metadata": {
  "kernelspec": {
   "display_name": "Python 3 (ipykernel)",
   "language": "python",
   "name": "python3"
  },
  "language_info": {
   "codemirror_mode": {
    "name": "ipython",
    "version": 3
   },
   "file_extension": ".py",
   "mimetype": "text/x-python",
   "name": "python",
   "nbconvert_exporter": "python",
   "pygments_lexer": "ipython3",
   "version": "3.8.10"
  }
 },
 "nbformat": 4,
 "nbformat_minor": 5
}
